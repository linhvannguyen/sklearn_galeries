{
 "cells": [
  {
   "cell_type": "code",
   "execution_count": 1,
   "metadata": {
    "collapsed": true
   },
   "outputs": [],
   "source": [
    "%matplotlib inline\n",
    "import numpy as np\n",
    "import matplotlib.pyplot as plt\n",
    "\n",
    "from sklearn import cross_validation, datasets, linear_model\n",
    "from sklearn.learning_curve import validation_curve\n",
    "from sklearn.svm import SVR\n",
    "from sklearn.grid_search import GridSearchCV\n",
    "from sklearn.learning_curve import learning_curve\n",
    "from sklearn.kernel_ridge import KernelRidge"
   ]
  },
  {
   "cell_type": "code",
   "execution_count": 2,
   "metadata": {
    "collapsed": false
   },
   "outputs": [
    {
     "name": "stdout",
     "output_type": "stream",
     "text": [
      "(442, 10)\n"
     ]
    }
   ],
   "source": [
    "diabetes = datasets.load_diabetes()\n",
    "print(diabetes.data.shape)\n",
    "N_tr=300\n",
    "X_train = diabetes.data[:N_tr]\n",
    "y_train = diabetes.target[:N_tr]\n",
    "X_test = diabetes.data[N_tr:-1]\n",
    "y_test = diabetes.target[N_tr:-1]"
   ]
  },
  {
   "cell_type": "code",
   "execution_count": 3,
   "metadata": {
    "collapsed": false
   },
   "outputs": [
    {
     "name": "stdout",
     "output_type": "stream",
     "text": [
      "SVR(C=100.0, cache_size=200, coef0=0.0, degree=3, epsilon=0.1,\n",
      "  gamma=4.6415888336127775, kernel='rbf', max_iter=-1, shrinking=True,\n",
      "  tol=0.001, verbose=False)\n"
     ]
    }
   ],
   "source": [
    "svr = GridSearchCV(SVR(kernel='rbf', gamma=0.1), cv=5, \n",
    "                   param_grid={\"C\": np.logspace(1, 5, 5), \"gamma\": np.logspace(-2, 2, 10)})\n",
    "svr.fit(X_train, y_train)\n",
    "\n",
    "print(svr.best_estimator_)"
   ]
  },
  {
   "cell_type": "code",
   "execution_count": 4,
   "metadata": {
    "collapsed": false
   },
   "outputs": [
    {
     "name": "stdout",
     "output_type": "stream",
     "text": [
      "KernelRidge(alpha=0.0088586679041008313, coef0=1, degree=3,\n",
      "      gamma=0.59948425031894093, kernel='rbf', kernel_params=None)\n"
     ]
    }
   ],
   "source": [
    "kr = GridSearchCV(KernelRidge(kernel='rbf', gamma=0.1), cv=5,\n",
    "                  param_grid={\"alpha\": np.logspace(0, -3, 20), \"gamma\": np.logspace(-2, 2, 10)})\n",
    "kr.fit(X_train, y_train)\n",
    "print(kr.best_estimator_)\n"
   ]
  },
  {
   "cell_type": "code",
   "execution_count": 5,
   "metadata": {
    "collapsed": false
   },
   "outputs": [
    {
     "name": "stdout",
     "output_type": "stream",
     "text": [
      "Lasso(alpha=0.078475997035146142, copy_X=True, fit_intercept=True,\n",
      "   max_iter=1000, normalize=True, positive=False, precompute=False,\n",
      "   random_state=None, selection='cyclic', tol=0.0001, warm_start=False)\n"
     ]
    }
   ],
   "source": [
    "lasso = GridSearchCV(linear_model.Lasso(fit_intercept=True, normalize=True), cv=5,\n",
    "                  param_grid={\"alpha\": np.logspace(0, -3, 20)})\n",
    "lasso.fit(X_train, y_train)\n",
    "print(lasso.best_estimator_)"
   ]
  },
  {
   "cell_type": "code",
   "execution_count": 6,
   "metadata": {
    "collapsed": false
   },
   "outputs": [
    {
     "name": "stdout",
     "output_type": "stream",
     "text": [
      "Ridge(alpha=0.11288378916846892, copy_X=True, fit_intercept=True,\n",
      "   max_iter=None, normalize=True, random_state=None, solver='auto',\n",
      "   tol=0.001)\n"
     ]
    }
   ],
   "source": [
    "ridge = GridSearchCV(linear_model.Ridge(fit_intercept=True, normalize=True), cv=5,\n",
    "                  param_grid={\"alpha\": np.logspace(0, -3, 20)})\n",
    "ridge.fit(X_train, y_train)\n",
    "print(ridge.best_estimator_)"
   ]
  },
  {
   "cell_type": "code",
   "execution_count": 7,
   "metadata": {
    "collapsed": false
   },
   "outputs": [
    {
     "name": "stdout",
     "output_type": "stream",
     "text": [
      "Ridge Regression score: 0.501524219446\n",
      "Kernel Ridge Regression score: 0.50408980424\n",
      "Support Vector Regression score: 0.513006900831\n",
      "Lasso score: 0.501337089549\n"
     ]
    }
   ],
   "source": [
    "print \"Ridge Regression score:\", ridge.score(X_test, y_test)\n",
    "print \"Kernel Ridge Regression score:\", kr.score(X_test, y_test)\n",
    "print \"Support Vector Regression score:\", svr.score(X_test, y_test)\n",
    "print \"Lasso score:\", lasso.score(X_test, y_test)"
   ]
  },
  {
   "cell_type": "code",
   "execution_count": null,
   "metadata": {
    "collapsed": true
   },
   "outputs": [],
   "source": []
  }
 ],
 "metadata": {
  "kernelspec": {
   "display_name": "Python 2",
   "language": "python",
   "name": "python2"
  },
  "language_info": {
   "codemirror_mode": {
    "name": "ipython",
    "version": 2
   },
   "file_extension": ".py",
   "mimetype": "text/x-python",
   "name": "python",
   "nbconvert_exporter": "python",
   "pygments_lexer": "ipython2",
   "version": "2.7.11"
  }
 },
 "nbformat": 4,
 "nbformat_minor": 0
}
